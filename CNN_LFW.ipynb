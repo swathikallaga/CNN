{
  "nbformat": 4,
  "nbformat_minor": 0,
  "metadata": {
    "accelerator": "GPU",
    "colab": {
      "name": "CNN_LFW.ipynb",
      "provenance": [],
      "collapsed_sections": [],
      "toc_visible": true,
      "include_colab_link": true
    },
    "kernelspec": {
      "display_name": "Python 3",
      "name": "python3"
    }
  },
  "cells": [
    {
      "cell_type": "markdown",
      "metadata": {
        "id": "view-in-github",
        "colab_type": "text"
      },
      "source": [
        "<a href=\"https://colab.research.google.com/github/swathikallaga/CNN/blob/main/CNN_LFW.ipynb\" target=\"_parent\"><img src=\"https://colab.research.google.com/assets/colab-badge.svg\" alt=\"Open In Colab\"/></a>"
      ]
    },
    {
      "cell_type": "code",
      "metadata": {
        "id": "tXmh8ghUppla"
      },
      "source": [
        "#import the required libraries\n",
        "import keras\n",
        "from keras.datasets import mnist\n",
        "from keras.models import Sequential\n",
        "from keras.layers import Conv2D, Dense, Dropout, MaxPooling2D, Flatten\n",
        "\n",
        "import pandas as pd"
      ],
      "execution_count": 1,
      "outputs": []
    },
    {
      "cell_type": "code",
      "metadata": {
        "colab": {
          "base_uri": "https://localhost:8080/"
        },
        "id": "4zY1A94gHmyo",
        "outputId": "1cc136aa-d4cd-40d8-f96a-6f24ff54fb82"
      },
      "source": [
        "from __future__ import print_function\r\n",
        "\r\n",
        "from time import time\r\n",
        "import logging\r\n",
        "import matplotlib.pyplot as plt\r\n",
        "\r\n",
        "from sklearn.model_selection import train_test_split\r\n",
        "from sklearn.model_selection import GridSearchCV\r\n",
        "from sklearn.datasets import fetch_lfw_people\r\n",
        "from sklearn.metrics import classification_report\r\n",
        "from sklearn.metrics import confusion_matrix\r\n",
        "from sklearn.decomposition import PCA\r\n",
        "from sklearn.svm import SVC\r\n",
        "\r\n",
        "\r\n",
        "print(__doc__)\r\n",
        "\r\n",
        "# Display progress logs on stdout\r\n",
        "logging.basicConfig(level=logging.INFO, format='%(asctime)s %(message)s')"
      ],
      "execution_count": 2,
      "outputs": [
        {
          "output_type": "stream",
          "text": [
            "Automatically created module for IPython interactive environment\n"
          ],
          "name": "stdout"
        }
      ]
    },
    {
      "cell_type": "code",
      "metadata": {
        "colab": {
          "base_uri": "https://localhost:8080/"
        },
        "id": "kq35NPThHsLJ",
        "outputId": "62160d40-4a7f-4d76-81d9-ec72e12121b3"
      },
      "source": [
        "lfw_people = fetch_lfw_people(min_faces_per_person=70, resize=0.4)\r\n",
        "\r\n",
        "# introspect the images arrays to find the shapes (for plotting)\r\n",
        "n_samples, h, w = lfw_people.images.shape\r\n",
        "\r\n",
        "# for machine learning we use the 2 data directly (as relative pixel\r\n",
        "# positions info is ignored by this model)\r\n",
        "X = lfw_people.data\r\n",
        "n_features = X.shape[1]\r\n",
        "\r\n",
        "# the label to predict is the id of the person\r\n",
        "y = lfw_people.target\r\n",
        "target_names = lfw_people.target_names\r\n",
        "n_classes = target_names.shape[0]\r\n",
        "\r\n",
        "print(\"Total dataset size:\")\r\n",
        "print(\"n_samples: %d\" % n_samples)\r\n",
        "print(\"n_features: %d\" % n_features)\r\n",
        "print(\"n_classes: %d\" % n_classes)"
      ],
      "execution_count": 3,
      "outputs": [
        {
          "output_type": "stream",
          "text": [
            "Downloading LFW metadata: https://ndownloader.figshare.com/files/5976012\n",
            "2021-02-23 09:01:15,022 Downloading LFW metadata: https://ndownloader.figshare.com/files/5976012\n",
            "Downloading LFW metadata: https://ndownloader.figshare.com/files/5976009\n",
            "2021-02-23 09:01:16,532 Downloading LFW metadata: https://ndownloader.figshare.com/files/5976009\n",
            "Downloading LFW metadata: https://ndownloader.figshare.com/files/5976006\n",
            "2021-02-23 09:01:17,786 Downloading LFW metadata: https://ndownloader.figshare.com/files/5976006\n",
            "Downloading LFW data (~200MB): https://ndownloader.figshare.com/files/5976015\n",
            "2021-02-23 09:01:19,374 Downloading LFW data (~200MB): https://ndownloader.figshare.com/files/5976015\n"
          ],
          "name": "stderr"
        },
        {
          "output_type": "stream",
          "text": [
            "Total dataset size:\n",
            "n_samples: 1288\n",
            "n_features: 1850\n",
            "n_classes: 7\n"
          ],
          "name": "stdout"
        }
      ]
    },
    {
      "cell_type": "code",
      "metadata": {
        "id": "0AoHBe0FssaO"
      },
      "source": [
        "#define hyperparameters like batch_size, num_classes, and epochs.\n",
        "batch_size = 128\n",
        "num_classes = 7\n",
        "epochs = 2"
      ],
      "execution_count": 5,
      "outputs": []
    },
    {
      "cell_type": "code",
      "metadata": {
        "colab": {
          "base_uri": "https://localhost:8080/"
        },
        "id": "P631D8HZ0it3",
        "outputId": "6ce1a287-e7f6-40e1-8d25-f3ec5d892e20"
      },
      "source": [
        "from google.colab import drive\r\n",
        "drive.mount('/content/drive')"
      ],
      "execution_count": null,
      "outputs": [
        {
          "output_type": "stream",
          "text": [
            "Mounted at /content/drive\n"
          ],
          "name": "stdout"
        }
      ]
    },
    {
      "cell_type": "code",
      "metadata": {
        "id": "fyzTp3kHsuQ-"
      },
      "source": [
        "#load the dataset and store it into numpy arrays\n",
        "#(x_train, y_train), (x_test, y_test) = mnist.load_data()\n",
        "#print(x_train.shape)\n",
        "\n",
        "#split into a training set and a test set using a stratified k fold\n",
        "\n",
        "# split into a training and testing set\n",
        "x_train, x_test, y_train, y_test = train_test_split(\n",
        "    X, y, test_size=0.25, random_state=42)"
      ],
      "execution_count": 6,
      "outputs": []
    },
    {
      "cell_type": "code",
      "metadata": {
        "colab": {
          "base_uri": "https://localhost:8080/"
        },
        "id": "OOXXhb9ksziQ",
        "outputId": "6a303d04-c6bb-4e61-9d6a-d382e4e1b15b"
      },
      "source": [
        "#typecast the array into float, normalize the data\n",
        "x_train = x_train.astype('float32')\n",
        "x_test = x_test.astype('float32')\n",
        "x_train /= 255\n",
        "x_test /= 255\n",
        "print(x_train.shape)\n",
        "print(x_train.shape[0], 'train samples')\n",
        "print(x_test.shape[0], 'test samples')"
      ],
      "execution_count": 7,
      "outputs": [
        {
          "output_type": "stream",
          "text": [
            "(966, 1850)\n",
            "966 train samples\n",
            "322 test samples\n"
          ],
          "name": "stdout"
        }
      ]
    },
    {
      "cell_type": "code",
      "metadata": {
        "id": "3gNZiD-ks5uf"
      },
      "source": [
        "#Generate one-hot encoding representation for y_train and y_test\n",
        "y_train = keras.utils.to_categorical(y_train, num_classes)\n",
        "y_test = keras.utils.to_categorical(y_test, num_classes)"
      ],
      "execution_count": 8,
      "outputs": []
    },
    {
      "cell_type": "code",
      "metadata": {
        "id": "h8SX2mvGydkd"
      },
      "source": [
        "#reshape the image dimension \n",
        "x_train = x_train.reshape(x_train.shape[0], h, w, 1)\n",
        "x_test = x_test.reshape(x_test.shape[0], h, w, 1)"
      ],
      "execution_count": 12,
      "outputs": []
    },
    {
      "cell_type": "code",
      "metadata": {
        "id": "1XTn61ASs9aF",
        "colab": {
          "base_uri": "https://localhost:8080/"
        },
        "outputId": "76cb936d-dcde-47ec-f9ee-f15ba52a25f0"
      },
      "source": [
        "#define the model\n",
        "model = Sequential()\n",
        "model.add(Conv2D(filters = 6, kernel_size = 5, strides = 1, activation = 'relu', input_shape = (h,w,1)))\n",
        "model.add(MaxPooling2D(pool_size = 2, strides = 2))\n",
        "model.add(Conv2D(filters = 16, kernel_size = 5, strides = 1, activation = 'relu'))\n",
        "#Pooling Layer 2\n",
        "model.add(MaxPooling2D(pool_size = 2, strides = 2))\n",
        "#Flatten\n",
        "model.add(Flatten())\n",
        "model.add(Dense(512, activation='relu'))\n",
        "model.add(Dropout(0.2))\n",
        "model.add(Dense(num_classes, activation='softmax'))\n",
        "\n",
        "model.summary()"
      ],
      "execution_count": 15,
      "outputs": [
        {
          "output_type": "stream",
          "text": [
            "Model: \"sequential_2\"\n",
            "_________________________________________________________________\n",
            "Layer (type)                 Output Shape              Param #   \n",
            "=================================================================\n",
            "conv2d_4 (Conv2D)            (None, 46, 33, 6)         156       \n",
            "_________________________________________________________________\n",
            "max_pooling2d_4 (MaxPooling2 (None, 23, 16, 6)         0         \n",
            "_________________________________________________________________\n",
            "conv2d_5 (Conv2D)            (None, 19, 12, 16)        2416      \n",
            "_________________________________________________________________\n",
            "max_pooling2d_5 (MaxPooling2 (None, 9, 6, 16)          0         \n",
            "_________________________________________________________________\n",
            "flatten_2 (Flatten)          (None, 864)               0         \n",
            "_________________________________________________________________\n",
            "dense_4 (Dense)              (None, 512)               442880    \n",
            "_________________________________________________________________\n",
            "dropout_2 (Dropout)          (None, 512)               0         \n",
            "_________________________________________________________________\n",
            "dense_5 (Dense)              (None, 7)                 3591      \n",
            "=================================================================\n",
            "Total params: 449,043\n",
            "Trainable params: 449,043\n",
            "Non-trainable params: 0\n",
            "_________________________________________________________________\n"
          ],
          "name": "stdout"
        }
      ]
    },
    {
      "cell_type": "code",
      "metadata": {
        "colab": {
          "base_uri": "https://localhost:8080/"
        },
        "id": "eAEh5OMnxzp8",
        "outputId": "e6c8a7ef-ad5c-41ad-96eb-c3db090f707b"
      },
      "source": [
        "#Compile and train the model\n",
        "model.compile(loss='categorical_crossentropy',\n",
        "              optimizer='adam',\n",
        "              metrics=['accuracy'])\n",
        "\n",
        "history = model.fit(x_train, y_train,\n",
        "                    batch_size=batch_size,\n",
        "                    epochs=epochs,\n",
        "                    verbose=1, validation_data=(x_test, y_test))"
      ],
      "execution_count": 16,
      "outputs": [
        {
          "output_type": "stream",
          "text": [
            "Epoch 1/2\n",
            "8/8 [==============================] - 7s 41ms/step - loss: 1.8235 - accuracy: 0.3231 - val_loss: 1.6311 - val_accuracy: 0.4534\n",
            "Epoch 2/2\n",
            "8/8 [==============================] - 0s 9ms/step - loss: 1.7258 - accuracy: 0.3855 - val_loss: 1.5807 - val_accuracy: 0.4534\n"
          ],
          "name": "stdout"
        }
      ]
    },
    {
      "cell_type": "code",
      "metadata": {
        "colab": {
          "base_uri": "https://localhost:8080/"
        },
        "id": "mX3alj6gzD2e",
        "outputId": "b0775191-3c82-4937-bd02-b3077e0a7503"
      },
      "source": [
        "#predict the score on test data\n",
        "score = model.evaluate(x_test, y_test, verbose=0)\n",
        "print('Test loss:', score[0])\n",
        "print('Test accuracy:', score[1])"
      ],
      "execution_count": 17,
      "outputs": [
        {
          "output_type": "stream",
          "text": [
            "Test loss: 1.5807076692581177\n",
            "Test accuracy: 0.4534161388874054\n"
          ],
          "name": "stdout"
        }
      ]
    }
  ]
}