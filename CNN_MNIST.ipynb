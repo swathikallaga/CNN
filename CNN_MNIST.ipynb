{
  "nbformat": 4,
  "nbformat_minor": 0,
  "metadata": {
    "colab": {
      "name": "CNN_MNIST.ipynb",
      "provenance": [],
      "collapsed_sections": []
    },
    "kernelspec": {
      "name": "python3",
      "display_name": "Python 3"
    },
    "accelerator": "GPU"
  },
  "cells": [
    {
      "cell_type": "code",
      "metadata": {
        "id": "tXmh8ghUppla"
      },
      "source": [
        "#import the required libraries\n",
        "import keras\n",
        "from keras.datasets import mnist\n",
        "from keras.models import Sequential\n",
        "from keras.layers import Conv2D, Dense, Dropout, MaxPooling2D, Flatten"
      ],
      "execution_count": 1,
      "outputs": []
    },
    {
      "cell_type": "code",
      "metadata": {
        "id": "0AoHBe0FssaO"
      },
      "source": [
        "#define hyperparameters like batch_size, num_classes, and epochs.\n",
        "batch_size = 128\n",
        "num_classes = 10\n",
        "epochs = 2"
      ],
      "execution_count": 2,
      "outputs": []
    },
    {
      "cell_type": "code",
      "metadata": {
        "colab": {
          "base_uri": "https://localhost:8080/"
        },
        "id": "fyzTp3kHsuQ-",
        "outputId": "337ae2ce-6aed-4d4b-94b1-a83c87c59a55"
      },
      "source": [
        "#load the dataset and store it into numpy arrays\n",
        "(x_train, y_train), (x_test, y_test) = mnist.load_data()\n",
        "print(x_train.shape)"
      ],
      "execution_count": 3,
      "outputs": [
        {
          "output_type": "stream",
          "text": [
            "Downloading data from https://storage.googleapis.com/tensorflow/tf-keras-datasets/mnist.npz\n",
            "11493376/11490434 [==============================] - 0s 0us/step\n",
            "(60000, 28, 28)\n"
          ],
          "name": "stdout"
        }
      ]
    },
    {
      "cell_type": "code",
      "metadata": {
        "colab": {
          "base_uri": "https://localhost:8080/"
        },
        "id": "OOXXhb9ksziQ",
        "outputId": "a359ad0a-3a5e-4256-f58a-011076bbf5fe"
      },
      "source": [
        "#typecast the array into float, normalize the data\n",
        "x_train = x_train.astype('float32')\n",
        "x_test = x_test.astype('float32')\n",
        "x_train /= 255\n",
        "x_test /= 255\n",
        "print(x_train.shape)\n",
        "print(x_train.shape[0], 'train samples')\n",
        "print(x_test.shape[0], 'test samples')"
      ],
      "execution_count": 4,
      "outputs": [
        {
          "output_type": "stream",
          "text": [
            "(60000, 28, 28)\n",
            "60000 train samples\n",
            "10000 test samples\n"
          ],
          "name": "stdout"
        }
      ]
    },
    {
      "cell_type": "code",
      "metadata": {
        "id": "3gNZiD-ks5uf"
      },
      "source": [
        "#Generate one-hot encoding representation for y_train and y_test\n",
        "y_train = keras.utils.to_categorical(y_train, num_classes)\n",
        "y_test = keras.utils.to_categorical(y_test, num_classes)"
      ],
      "execution_count": 5,
      "outputs": []
    },
    {
      "cell_type": "code",
      "metadata": {
        "id": "h8SX2mvGydkd"
      },
      "source": [
        "#reshape the image dimension \n",
        "x_train = x_train.reshape(x_train.shape[0], 28, 28, 1)\n",
        "x_test = x_test.reshape(x_test.shape[0], 28, 28, 1)"
      ],
      "execution_count": 6,
      "outputs": []
    },
    {
      "cell_type": "code",
      "metadata": {
        "id": "1XTn61ASs9aF"
      },
      "source": [
        "#define the model\n",
        "model = Sequential()\n",
        "model.add(Conv2D(filters = 6, kernel_size = 5, strides = 1, activation = 'relu', input_shape = (28,28,1)))\n",
        "model.add(MaxPooling2D(pool_size = 2, strides = 2))\n",
        "model.add(Conv2D(filters = 16, kernel_size = 5, strides = 1, activation = 'relu'))\n",
        "#Pooling Layer 2\n",
        "model.add(MaxPooling2D(pool_size = 2, strides = 2))\n",
        "#Flatten\n",
        "model.add(Flatten())\n",
        "model.add(Dense(512, activation='relu'))\n",
        "model.add(Dropout(0.2))\n",
        "model.add(Dense(num_classes, activation='softmax'))\n",
        "\n",
        "model.summary()"
      ],
      "execution_count": null,
      "outputs": []
    },
    {
      "cell_type": "code",
      "metadata": {
        "colab": {
          "base_uri": "https://localhost:8080/"
        },
        "id": "eAEh5OMnxzp8",
        "outputId": "9eee457b-0243-4f16-c366-6993dd70070e"
      },
      "source": [
        "#Compile and train the model\n",
        "model.compile(loss='categorical_crossentropy',\n",
        "              optimizer='adam',\n",
        "              metrics=['accuracy'])\n",
        "\n",
        "history = model.fit(x_train, y_train,\n",
        "                    batch_size=batch_size,\n",
        "                    epochs=epochs,\n",
        "                    verbose=1, validation_data=(x_test, y_test))"
      ],
      "execution_count": 8,
      "outputs": [
        {
          "output_type": "stream",
          "text": [
            "Epoch 1/2\n",
            "469/469 [==============================] - 9s 4ms/step - loss: 0.5691 - accuracy: 0.8378 - val_loss: 0.0727 - val_accuracy: 0.9787\n",
            "Epoch 2/2\n",
            "469/469 [==============================] - 2s 3ms/step - loss: 0.0786 - accuracy: 0.9758 - val_loss: 0.0438 - val_accuracy: 0.9860\n"
          ],
          "name": "stdout"
        }
      ]
    },
    {
      "cell_type": "code",
      "metadata": {
        "id": "mX3alj6gzD2e",
        "colab": {
          "base_uri": "https://localhost:8080/"
        },
        "outputId": "a0409c10-671b-4bfa-de7a-a65eba439e8b"
      },
      "source": [
        "#predict the score on test data\n",
        "score = model.evaluate(x_test, y_test, verbose=0)\n",
        "print('Test loss:', score[0])\n",
        "print('Test accuracy:', score[1])"
      ],
      "execution_count": null,
      "outputs": [
        {
          "output_type": "stream",
          "text": [
            "Test loss: 0.07433398067951202\n",
            "Test accuracy: 0.9764000177383423\n"
          ],
          "name": "stdout"
        }
      ]
    }
  ]
}